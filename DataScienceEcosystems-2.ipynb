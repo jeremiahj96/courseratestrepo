{
 "cells": [
  {
   "cell_type": "markdown",
   "id": "2a204cd4",
   "metadata": {},
   "source": [
    "# Data Science Tools & Ecosystems"
   ]
  },
  {
   "cell_type": "markdown",
   "id": "31488304",
   "metadata": {},
   "source": [
    "In this notebook, Data Science Tools and Ecosystems are summarized"
   ]
  },
  {
   "cell_type": "markdown",
   "id": "c35d7fc7",
   "metadata": {},
   "source": [
    "# Objectives\n",
    "- markdowns\n",
    "- code\n",
    "- H1\n",
    "- Shift + Return\n",
    "- Expressions"
   ]
  },
  {
   "cell_type": "markdown",
   "id": "e7530658",
   "metadata": {},
   "source": [
    "Some of the popular languesges that Scientist use are:"
   ]
  },
  {
   "cell_type": "markdown",
   "id": "1bd9963a",
   "metadata": {},
   "source": [
    "1. Python\n",
    "2. R\n",
    "3. SQL"
   ]
  },
  {
   "cell_type": "markdown",
   "id": "d03097e3",
   "metadata": {},
   "source": [
    "Some of the commonly used libraries used by Data Scientists include:\n",
    "1. Pandas\n",
    "2. NumPy\n",
    "3. Matplotlib"
   ]
  },
  {
   "cell_type": "markdown",
   "id": "978fd31c",
   "metadata": {},
   "source": [
    "|Data Science Tools|\n",
    "------------------------\n",
    "|RStudio|\n",
    "|JupiterLab|\n",
    "|GoogleColab|"
   ]
  },
  {
   "cell_type": "markdown",
   "id": "c815a1f4",
   "metadata": {},
   "source": [
    "### Below are a few examples of evaluating arithmetic expression in Python"
   ]
  },
  {
   "cell_type": "code",
   "execution_count": 3,
   "id": "d12d1e46",
   "metadata": {},
   "outputs": [
    {
     "data": {
      "text/plain": [
       "17"
      ]
     },
     "execution_count": 3,
     "metadata": {},
     "output_type": "execute_result"
    }
   ],
   "source": [
    "# This a simple arithmetic expression to mutiply then add integers.\n",
    "(3*4)+5"
   ]
  },
  {
   "cell_type": "code",
   "execution_count": 4,
   "id": "1dc88e8a",
   "metadata": {},
   "outputs": [
    {
     "data": {
      "text/plain": [
       "3.3333333333333335"
      ]
     },
     "execution_count": 4,
     "metadata": {},
     "output_type": "execute_result"
    }
   ],
   "source": [
    "# This will convert 200 minutes to hours dividing by 60\n",
    "200/60"
   ]
  },
  {
   "cell_type": "markdown",
   "id": "38ac4e92",
   "metadata": {},
   "source": [
    "## Author\n",
    "Jeremiah Johnson"
   ]
  },
  {
   "cell_type": "code",
   "execution_count": null,
   "id": "159111f6",
   "metadata": {},
   "outputs": [],
   "source": []
  }
 ],
 "metadata": {
  "kernelspec": {
   "display_name": "Python 3 (ipykernel)",
   "language": "python",
   "name": "python3"
  },
  "language_info": {
   "codemirror_mode": {
    "name": "ipython",
    "version": 3
   },
   "file_extension": ".py",
   "mimetype": "text/x-python",
   "name": "python",
   "nbconvert_exporter": "python",
   "pygments_lexer": "ipython3",
   "version": "3.11.7"
  }
 },
 "nbformat": 4,
 "nbformat_minor": 5
}
